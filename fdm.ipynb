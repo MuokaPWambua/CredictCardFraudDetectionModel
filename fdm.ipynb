{
 "cells": [
  {
   "cell_type": "code",
   "execution_count": 50,
   "metadata": {},
   "outputs": [],
   "source": [
    "import numpy as np\n",
    "import pandas as pd\n",
    "import matplotlib.pyplot as plt"
   ]
  },
  {
   "cell_type": "code",
   "execution_count": 51,
   "metadata": {},
   "outputs": [
    {
     "data": {
      "text/html": [
       "<div>\n",
       "<style scoped>\n",
       "    .dataframe tbody tr th:only-of-type {\n",
       "        vertical-align: middle;\n",
       "    }\n",
       "\n",
       "    .dataframe tbody tr th {\n",
       "        vertical-align: top;\n",
       "    }\n",
       "\n",
       "    .dataframe thead th {\n",
       "        text-align: right;\n",
       "    }\n",
       "</style>\n",
       "<table border=\"1\" class=\"dataframe\">\n",
       "  <thead>\n",
       "    <tr style=\"text-align: right;\">\n",
       "      <th></th>\n",
       "      <th>Time</th>\n",
       "      <th>V1</th>\n",
       "      <th>V2</th>\n",
       "      <th>V3</th>\n",
       "      <th>V4</th>\n",
       "      <th>V5</th>\n",
       "      <th>V6</th>\n",
       "      <th>V7</th>\n",
       "      <th>V8</th>\n",
       "      <th>V9</th>\n",
       "      <th>...</th>\n",
       "      <th>V21</th>\n",
       "      <th>V22</th>\n",
       "      <th>V23</th>\n",
       "      <th>V24</th>\n",
       "      <th>V25</th>\n",
       "      <th>V26</th>\n",
       "      <th>V27</th>\n",
       "      <th>V28</th>\n",
       "      <th>Amount</th>\n",
       "      <th>Class</th>\n",
       "    </tr>\n",
       "  </thead>\n",
       "  <tbody>\n",
       "    <tr>\n",
       "      <th>0</th>\n",
       "      <td>0.0</td>\n",
       "      <td>-1.359807</td>\n",
       "      <td>-0.072781</td>\n",
       "      <td>2.536347</td>\n",
       "      <td>1.378155</td>\n",
       "      <td>-0.338321</td>\n",
       "      <td>0.462388</td>\n",
       "      <td>0.239599</td>\n",
       "      <td>0.098698</td>\n",
       "      <td>0.363787</td>\n",
       "      <td>...</td>\n",
       "      <td>-0.018307</td>\n",
       "      <td>0.277838</td>\n",
       "      <td>-0.110474</td>\n",
       "      <td>0.066928</td>\n",
       "      <td>0.128539</td>\n",
       "      <td>-0.189115</td>\n",
       "      <td>0.133558</td>\n",
       "      <td>-0.021053</td>\n",
       "      <td>149.62</td>\n",
       "      <td>0</td>\n",
       "    </tr>\n",
       "    <tr>\n",
       "      <th>1</th>\n",
       "      <td>0.0</td>\n",
       "      <td>1.191857</td>\n",
       "      <td>0.266151</td>\n",
       "      <td>0.166480</td>\n",
       "      <td>0.448154</td>\n",
       "      <td>0.060018</td>\n",
       "      <td>-0.082361</td>\n",
       "      <td>-0.078803</td>\n",
       "      <td>0.085102</td>\n",
       "      <td>-0.255425</td>\n",
       "      <td>...</td>\n",
       "      <td>-0.225775</td>\n",
       "      <td>-0.638672</td>\n",
       "      <td>0.101288</td>\n",
       "      <td>-0.339846</td>\n",
       "      <td>0.167170</td>\n",
       "      <td>0.125895</td>\n",
       "      <td>-0.008983</td>\n",
       "      <td>0.014724</td>\n",
       "      <td>2.69</td>\n",
       "      <td>0</td>\n",
       "    </tr>\n",
       "    <tr>\n",
       "      <th>2</th>\n",
       "      <td>1.0</td>\n",
       "      <td>-1.358354</td>\n",
       "      <td>-1.340163</td>\n",
       "      <td>1.773209</td>\n",
       "      <td>0.379780</td>\n",
       "      <td>-0.503198</td>\n",
       "      <td>1.800499</td>\n",
       "      <td>0.791461</td>\n",
       "      <td>0.247676</td>\n",
       "      <td>-1.514654</td>\n",
       "      <td>...</td>\n",
       "      <td>0.247998</td>\n",
       "      <td>0.771679</td>\n",
       "      <td>0.909412</td>\n",
       "      <td>-0.689281</td>\n",
       "      <td>-0.327642</td>\n",
       "      <td>-0.139097</td>\n",
       "      <td>-0.055353</td>\n",
       "      <td>-0.059752</td>\n",
       "      <td>378.66</td>\n",
       "      <td>0</td>\n",
       "    </tr>\n",
       "    <tr>\n",
       "      <th>3</th>\n",
       "      <td>1.0</td>\n",
       "      <td>-0.966272</td>\n",
       "      <td>-0.185226</td>\n",
       "      <td>1.792993</td>\n",
       "      <td>-0.863291</td>\n",
       "      <td>-0.010309</td>\n",
       "      <td>1.247203</td>\n",
       "      <td>0.237609</td>\n",
       "      <td>0.377436</td>\n",
       "      <td>-1.387024</td>\n",
       "      <td>...</td>\n",
       "      <td>-0.108300</td>\n",
       "      <td>0.005274</td>\n",
       "      <td>-0.190321</td>\n",
       "      <td>-1.175575</td>\n",
       "      <td>0.647376</td>\n",
       "      <td>-0.221929</td>\n",
       "      <td>0.062723</td>\n",
       "      <td>0.061458</td>\n",
       "      <td>123.50</td>\n",
       "      <td>0</td>\n",
       "    </tr>\n",
       "    <tr>\n",
       "      <th>4</th>\n",
       "      <td>2.0</td>\n",
       "      <td>-1.158233</td>\n",
       "      <td>0.877737</td>\n",
       "      <td>1.548718</td>\n",
       "      <td>0.403034</td>\n",
       "      <td>-0.407193</td>\n",
       "      <td>0.095921</td>\n",
       "      <td>0.592941</td>\n",
       "      <td>-0.270533</td>\n",
       "      <td>0.817739</td>\n",
       "      <td>...</td>\n",
       "      <td>-0.009431</td>\n",
       "      <td>0.798278</td>\n",
       "      <td>-0.137458</td>\n",
       "      <td>0.141267</td>\n",
       "      <td>-0.206010</td>\n",
       "      <td>0.502292</td>\n",
       "      <td>0.219422</td>\n",
       "      <td>0.215153</td>\n",
       "      <td>69.99</td>\n",
       "      <td>0</td>\n",
       "    </tr>\n",
       "  </tbody>\n",
       "</table>\n",
       "<p>5 rows × 31 columns</p>\n",
       "</div>"
      ],
      "text/plain": [
       "   Time        V1        V2        V3        V4        V5        V6        V7  \\\n",
       "0   0.0 -1.359807 -0.072781  2.536347  1.378155 -0.338321  0.462388  0.239599   \n",
       "1   0.0  1.191857  0.266151  0.166480  0.448154  0.060018 -0.082361 -0.078803   \n",
       "2   1.0 -1.358354 -1.340163  1.773209  0.379780 -0.503198  1.800499  0.791461   \n",
       "3   1.0 -0.966272 -0.185226  1.792993 -0.863291 -0.010309  1.247203  0.237609   \n",
       "4   2.0 -1.158233  0.877737  1.548718  0.403034 -0.407193  0.095921  0.592941   \n",
       "\n",
       "         V8        V9  ...       V21       V22       V23       V24       V25  \\\n",
       "0  0.098698  0.363787  ... -0.018307  0.277838 -0.110474  0.066928  0.128539   \n",
       "1  0.085102 -0.255425  ... -0.225775 -0.638672  0.101288 -0.339846  0.167170   \n",
       "2  0.247676 -1.514654  ...  0.247998  0.771679  0.909412 -0.689281 -0.327642   \n",
       "3  0.377436 -1.387024  ... -0.108300  0.005274 -0.190321 -1.175575  0.647376   \n",
       "4 -0.270533  0.817739  ... -0.009431  0.798278 -0.137458  0.141267 -0.206010   \n",
       "\n",
       "        V26       V27       V28  Amount  Class  \n",
       "0 -0.189115  0.133558 -0.021053  149.62      0  \n",
       "1  0.125895 -0.008983  0.014724    2.69      0  \n",
       "2 -0.139097 -0.055353 -0.059752  378.66      0  \n",
       "3 -0.221929  0.062723  0.061458  123.50      0  \n",
       "4  0.502292  0.219422  0.215153   69.99      0  \n",
       "\n",
       "[5 rows x 31 columns]"
      ]
     },
     "execution_count": 51,
     "metadata": {},
     "output_type": "execute_result"
    }
   ],
   "source": [
    "df = pd.read_csv('./data/creditcard.csv')\n",
    "df.head()"
   ]
  },
  {
   "cell_type": "code",
   "execution_count": 52,
   "metadata": {},
   "outputs": [
    {
     "name": "stdout",
     "output_type": "stream",
     "text": [
      "X shape (284807, 28), y shape (284807,) fraud cases 492\n"
     ]
    }
   ],
   "source": [
    "X = df.drop(columns=['Time', 'Amount', 'Class']).values\n",
    "y = df['Class'].values  \n",
    "print(f'X shape {X.shape}, y shape {y.shape} fraud cases {y.sum()}')"
   ]
  },
  {
   "attachments": {},
   "cell_type": "markdown",
   "metadata": {},
   "source": [
    "### Model Evaluation / Selection"
   ]
  },
  {
   "attachments": {},
   "cell_type": "markdown",
   "metadata": {},
   "source": [
    "####  LogisticRegresion"
   ]
  },
  {
   "cell_type": "code",
   "execution_count": 53,
   "metadata": {},
   "outputs": [
    {
     "name": "stdout",
     "output_type": "stream",
     "text": [
      "{'mean_fit_time': array([5.38776665, 5.32729912, 4.56771514, 4.98575816, 5.4753442 ,\n",
      "       5.26125031, 5.06848226, 4.78004181, 4.47812138, 5.30880389,\n",
      "       4.59707971, 4.49254837, 4.16011589, 4.36925888, 4.23175285,\n",
      "       4.079899  , 3.81999071, 4.22015507, 4.59365957, 3.74617956,\n",
      "       4.12454209, 4.44863999, 3.98413732, 4.26087816, 4.25387154,\n",
      "       4.23276429, 4.41899679, 4.30131652, 4.10470607, 3.67011704]), 'std_fit_time': array([0.36273544, 0.36000276, 0.4714148 , 0.59468422, 1.41369297,\n",
      "       0.70245043, 0.6902903 , 0.5679998 , 0.50852681, 0.81080598,\n",
      "       0.60906143, 0.53361624, 0.37219448, 0.32965378, 0.31414998,\n",
      "       0.27164683, 0.50011601, 0.49668915, 0.55998989, 0.25750103,\n",
      "       0.47035696, 0.24494968, 0.67786578, 0.52269351, 1.12742637,\n",
      "       0.58476347, 0.5789492 , 0.84845257, 0.66626113, 0.66127494]), 'mean_score_time': array([0.06597111, 0.05681298, 0.05398216, 0.07421608, 0.07812657,\n",
      "       0.0741457 , 0.08218739, 0.06102736, 0.07049789, 0.08018651,\n",
      "       0.06435642, 0.06363418, 0.06478   , 0.05994332, 0.06627324,\n",
      "       0.06025298, 0.06167774, 0.05908871, 0.07354918, 0.0601778 ,\n",
      "       0.06597769, 0.05707955, 0.07256024, 0.06817191, 0.06668401,\n",
      "       0.05328526, 0.06263189, 0.06697662, 0.06634035, 0.06484175]), 'std_score_time': array([0.01836579, 0.01265711, 0.00357608, 0.02220194, 0.0355316 ,\n",
      "       0.02263723, 0.02491191, 0.01115991, 0.01879808, 0.02171188,\n",
      "       0.00896396, 0.01787381, 0.01167498, 0.01061447, 0.01482424,\n",
      "       0.01236214, 0.00965648, 0.01363072, 0.02784274, 0.01104647,\n",
      "       0.01130165, 0.01220391, 0.0431012 , 0.02676397, 0.02756429,\n",
      "       0.02130687, 0.02886025, 0.014592  , 0.01941583, 0.02511851]), 'param_class_weight': masked_array(data=[{0: 1, 1: 1.0}, {0: 1, 1: 1.6551724137931034},\n",
      "                   {0: 1, 1: 2.310344827586207},\n",
      "                   {0: 1, 1: 2.9655172413793105},\n",
      "                   {0: 1, 1: 3.6206896551724137},\n",
      "                   {0: 1, 1: 4.275862068965517},\n",
      "                   {0: 1, 1: 4.931034482758621},\n",
      "                   {0: 1, 1: 5.586206896551724},\n",
      "                   {0: 1, 1: 6.241379310344827},\n",
      "                   {0: 1, 1: 6.896551724137931},\n",
      "                   {0: 1, 1: 7.551724137931034},\n",
      "                   {0: 1, 1: 8.206896551724139},\n",
      "                   {0: 1, 1: 8.862068965517242},\n",
      "                   {0: 1, 1: 9.517241379310345},\n",
      "                   {0: 1, 1: 10.172413793103448},\n",
      "                   {0: 1, 1: 10.827586206896552},\n",
      "                   {0: 1, 1: 11.482758620689655},\n",
      "                   {0: 1, 1: 12.137931034482758},\n",
      "                   {0: 1, 1: 12.793103448275861},\n",
      "                   {0: 1, 1: 13.448275862068964},\n",
      "                   {0: 1, 1: 14.103448275862068},\n",
      "                   {0: 1, 1: 14.758620689655173},\n",
      "                   {0: 1, 1: 15.413793103448276},\n",
      "                   {0: 1, 1: 16.06896551724138},\n",
      "                   {0: 1, 1: 16.724137931034484},\n",
      "                   {0: 1, 1: 17.379310344827587},\n",
      "                   {0: 1, 1: 18.03448275862069},\n",
      "                   {0: 1, 1: 18.689655172413794},\n",
      "                   {0: 1, 1: 19.344827586206897}, {0: 1, 1: 20.0}],\n",
      "             mask=[False, False, False, False, False, False, False, False,\n",
      "                   False, False, False, False, False, False, False, False,\n",
      "                   False, False, False, False, False, False, False, False,\n",
      "                   False, False, False, False, False, False],\n",
      "       fill_value='?',\n",
      "            dtype=object), 'params': [{'class_weight': {0: 1, 1: 1.0}}, {'class_weight': {0: 1, 1: 1.6551724137931034}}, {'class_weight': {0: 1, 1: 2.310344827586207}}, {'class_weight': {0: 1, 1: 2.9655172413793105}}, {'class_weight': {0: 1, 1: 3.6206896551724137}}, {'class_weight': {0: 1, 1: 4.275862068965517}}, {'class_weight': {0: 1, 1: 4.931034482758621}}, {'class_weight': {0: 1, 1: 5.586206896551724}}, {'class_weight': {0: 1, 1: 6.241379310344827}}, {'class_weight': {0: 1, 1: 6.896551724137931}}, {'class_weight': {0: 1, 1: 7.551724137931034}}, {'class_weight': {0: 1, 1: 8.206896551724139}}, {'class_weight': {0: 1, 1: 8.862068965517242}}, {'class_weight': {0: 1, 1: 9.517241379310345}}, {'class_weight': {0: 1, 1: 10.172413793103448}}, {'class_weight': {0: 1, 1: 10.827586206896552}}, {'class_weight': {0: 1, 1: 11.482758620689655}}, {'class_weight': {0: 1, 1: 12.137931034482758}}, {'class_weight': {0: 1, 1: 12.793103448275861}}, {'class_weight': {0: 1, 1: 13.448275862068964}}, {'class_weight': {0: 1, 1: 14.103448275862068}}, {'class_weight': {0: 1, 1: 14.758620689655173}}, {'class_weight': {0: 1, 1: 15.413793103448276}}, {'class_weight': {0: 1, 1: 16.06896551724138}}, {'class_weight': {0: 1, 1: 16.724137931034484}}, {'class_weight': {0: 1, 1: 17.379310344827587}}, {'class_weight': {0: 1, 1: 18.03448275862069}}, {'class_weight': {0: 1, 1: 18.689655172413794}}, {'class_weight': {0: 1, 1: 19.344827586206897}}, {'class_weight': {0: 1, 1: 20.0}}], 'split0_test_precision': array([0.57333333, 0.57333333, 0.58441558, 0.56962025, 0.5625    ,\n",
      "       0.5625    , 0.5625    , 0.54216867, 0.54216867, 0.54216867,\n",
      "       0.54216867, 0.53571429, 0.52325581, 0.52325581, 0.52325581,\n",
      "       0.52325581, 0.52325581, 0.51724138, 0.51724138, 0.51724138,\n",
      "       0.51724138, 0.51724138, 0.51724138, 0.51724138, 0.51136364,\n",
      "       0.51136364, 0.51136364, 0.51136364, 0.50561798, 0.50561798]), 'split1_test_precision': array([1.        , 0.95238095, 0.95454545, 0.95454545, 0.92      ,\n",
      "       0.92307692, 0.92857143, 0.92857143, 0.92857143, 0.92857143,\n",
      "       0.93103448, 0.9       , 0.9       , 0.9       , 0.875     ,\n",
      "       0.84848485, 0.84848485, 0.84848485, 0.84848485, 0.84848485,\n",
      "       0.84848485, 0.84848485, 0.84848485, 0.84848485, 0.85294118,\n",
      "       0.85294118, 0.85294118, 0.85294118, 0.85294118, 0.85294118]), 'split2_test_precision': array([0.97727273, 0.95652174, 0.95744681, 0.95744681, 0.95744681,\n",
      "       0.95833333, 0.95833333, 0.95833333, 0.95833333, 0.93877551,\n",
      "       0.93877551, 0.94      , 0.94      , 0.94      , 0.94      ,\n",
      "       0.94      , 0.94      , 0.94      , 0.94      , 0.94      ,\n",
      "       0.94      , 0.92156863, 0.92156863, 0.92156863, 0.92156863,\n",
      "       0.92156863, 0.92156863, 0.90384615, 0.88679245, 0.88679245]), 'split3_test_precision': array([1.        , 1.        , 1.        , 1.        , 1.        ,\n",
      "       1.        , 1.        , 0.96969697, 0.97058824, 0.97058824,\n",
      "       0.97297297, 0.97297297, 0.97297297, 0.97297297, 0.97297297,\n",
      "       0.97297297, 0.97297297, 0.97297297, 0.97297297, 0.97297297,\n",
      "       0.97297297, 0.97297297, 0.97297297, 0.97297297, 0.97297297,\n",
      "       0.97297297, 0.97297297, 0.97297297, 0.97297297, 0.97297297]), 'split4_test_precision': array([0.86363636, 0.9       , 0.91428571, 0.91428571, 0.91891892,\n",
      "       0.91891892, 0.91891892, 0.91891892, 0.91891892, 0.91891892,\n",
      "       0.91891892, 0.91891892, 0.91891892, 0.91891892, 0.91891892,\n",
      "       0.92105263, 0.8974359 , 0.8974359 , 0.8974359 , 0.8974359 ,\n",
      "       0.875     , 0.87804878, 0.87804878, 0.87804878, 0.87804878,\n",
      "       0.85714286, 0.85714286, 0.85714286, 0.85714286, 0.85714286]), 'split5_test_precision': array([0.96153846, 0.76315789, 0.63829787, 0.61111111, 0.58928571,\n",
      "       0.58928571, 0.60344828, 0.60344828, 0.6       , 0.58064516,\n",
      "       0.52941176, 0.5       , 0.48648649, 0.47368421, 0.46753247,\n",
      "       0.44444444, 0.44444444, 0.43902439, 0.42857143, 0.41860465,\n",
      "       0.41860465, 0.40449438, 0.4       , 0.4       , 0.4       ,\n",
      "       0.39130435, 0.39130435, 0.38709677, 0.38709677, 0.38709677]), 'split6_test_precision': array([0.93333333, 0.87755102, 0.86792453, 0.87037037, 0.87037037,\n",
      "       0.87037037, 0.87037037, 0.87037037, 0.85454545, 0.85454545,\n",
      "       0.85454545, 0.85454545, 0.85454545, 0.85454545, 0.83928571,\n",
      "       0.83928571, 0.83928571, 0.8245614 , 0.81034483, 0.79661017,\n",
      "       0.79661017, 0.79661017, 0.78333333, 0.78333333, 0.78333333,\n",
      "       0.78333333, 0.78333333, 0.75806452, 0.74603175, 0.74603175]), 'split7_test_precision': array([0.89285714, 0.8       , 0.8       , 0.78723404, 0.78723404,\n",
      "       0.78723404, 0.78723404, 0.78723404, 0.78723404, 0.79166667,\n",
      "       0.79166667, 0.78      , 0.78      , 0.78      , 0.78      ,\n",
      "       0.75      , 0.75      , 0.73584906, 0.72222222, 0.70909091,\n",
      "       0.70909091, 0.70909091, 0.69642857, 0.68421053, 0.68421053,\n",
      "       0.68421053, 0.66101695, 0.65      , 0.62903226, 0.62903226]), 'split8_test_precision': array([1.        , 1.        , 0.92105263, 0.92682927, 0.92682927,\n",
      "       0.92857143, 0.92857143, 0.92857143, 0.88888889, 0.88888889,\n",
      "       0.86956522, 0.86956522, 0.86956522, 0.87234043, 0.85714286,\n",
      "       0.85714286, 0.85714286, 0.85714286, 0.76363636, 0.75      ,\n",
      "       0.75      , 0.75      , 0.72413793, 0.72413793, 0.71186441,\n",
      "       0.71186441, 0.68852459, 0.65625   , 0.64615385, 0.64615385]), 'split9_test_precision': array([0.86666667, 0.78947368, 0.73170732, 0.73170732, 0.74418605,\n",
      "       0.74418605, 0.74418605, 0.72727273, 0.66666667, 0.66666667,\n",
      "       0.67346939, 0.66      , 0.66      , 0.66      , 0.64705882,\n",
      "       0.62264151, 0.62962963, 0.62962963, 0.61818182, 0.61818182,\n",
      "       0.61818182, 0.60714286, 0.60714286, 0.60714286, 0.60714286,\n",
      "       0.60714286, 0.61403509, 0.60344828, 0.60344828, 0.60344828]), 'mean_test_precision': array([0.9068638 , 0.86124186, 0.83696759, 0.83231503, 0.82767712,\n",
      "       0.82824768, 0.83021338, 0.82345862, 0.81159156, 0.80814356,\n",
      "       0.80225291, 0.79317168, 0.79057449, 0.78957178, 0.78211676,\n",
      "       0.77192808, 0.77026522, 0.76623424, 0.75190918, 0.74686226,\n",
      "       0.74461867, 0.74056549, 0.73493593, 0.73371413, 0.73234463,\n",
      "       0.72938447, 0.72542036, 0.71531264, 0.70872303, 0.70872303]), 'std_test_precision': array([0.12230847, 0.12612432, 0.13587663, 0.14349591, 0.14518731,\n",
      "       0.1455841 , 0.14367076, 0.14528598, 0.14791641, 0.14889101,\n",
      "       0.15621403, 0.16151055, 0.16597155, 0.16847895, 0.16787196,\n",
      "       0.17332503, 0.17084041, 0.17240323, 0.17224549, 0.17388981,\n",
      "       0.17206777, 0.17382846, 0.17456054, 0.17486828, 0.17600516,\n",
      "       0.1760372 , 0.17666134, 0.17675053, 0.17657843, 0.17657843]), 'rank_test_precision': array([ 1,  2,  3,  4,  7,  6,  5,  8,  9, 10, 11, 12, 13, 14, 15, 16, 17,\n",
      "       18, 19, 20, 21, 22, 23, 24, 25, 26, 27, 28, 29, 29], dtype=int32), 'split0_test_recall': array([0.87755102, 0.87755102, 0.91836735, 0.91836735, 0.91836735,\n",
      "       0.91836735, 0.91836735, 0.91836735, 0.91836735, 0.91836735,\n",
      "       0.91836735, 0.91836735, 0.91836735, 0.91836735, 0.91836735,\n",
      "       0.91836735, 0.91836735, 0.91836735, 0.91836735, 0.91836735,\n",
      "       0.91836735, 0.91836735, 0.91836735, 0.91836735, 0.91836735,\n",
      "       0.91836735, 0.91836735, 0.91836735, 0.91836735, 0.91836735]), 'split1_test_recall': array([0.32653061, 0.40816327, 0.42857143, 0.42857143, 0.46938776,\n",
      "       0.48979592, 0.53061224, 0.53061224, 0.53061224, 0.53061224,\n",
      "       0.55102041, 0.55102041, 0.55102041, 0.55102041, 0.57142857,\n",
      "       0.57142857, 0.57142857, 0.57142857, 0.57142857, 0.57142857,\n",
      "       0.57142857, 0.57142857, 0.57142857, 0.57142857, 0.59183673,\n",
      "       0.59183673, 0.59183673, 0.59183673, 0.59183673, 0.59183673]), 'split2_test_recall': array([0.87755102, 0.89795918, 0.91836735, 0.91836735, 0.91836735,\n",
      "       0.93877551, 0.93877551, 0.93877551, 0.93877551, 0.93877551,\n",
      "       0.93877551, 0.95918367, 0.95918367, 0.95918367, 0.95918367,\n",
      "       0.95918367, 0.95918367, 0.95918367, 0.95918367, 0.95918367,\n",
      "       0.95918367, 0.95918367, 0.95918367, 0.95918367, 0.95918367,\n",
      "       0.95918367, 0.95918367, 0.95918367, 0.95918367, 0.95918367]), 'split3_test_recall': array([0.3877551 , 0.46938776, 0.48979592, 0.57142857, 0.6122449 ,\n",
      "       0.6122449 , 0.63265306, 0.65306122, 0.67346939, 0.67346939,\n",
      "       0.73469388, 0.73469388, 0.73469388, 0.73469388, 0.73469388,\n",
      "       0.73469388, 0.73469388, 0.73469388, 0.73469388, 0.73469388,\n",
      "       0.73469388, 0.73469388, 0.73469388, 0.73469388, 0.73469388,\n",
      "       0.73469388, 0.73469388, 0.73469388, 0.73469388, 0.73469388]), 'split4_test_recall': array([0.3877551 , 0.55102041, 0.65306122, 0.65306122, 0.69387755,\n",
      "       0.69387755, 0.69387755, 0.69387755, 0.69387755, 0.69387755,\n",
      "       0.69387755, 0.69387755, 0.69387755, 0.69387755, 0.69387755,\n",
      "       0.71428571, 0.71428571, 0.71428571, 0.71428571, 0.71428571,\n",
      "       0.71428571, 0.73469388, 0.73469388, 0.73469388, 0.73469388,\n",
      "       0.73469388, 0.73469388, 0.73469388, 0.73469388, 0.73469388]), 'split5_test_recall': array([0.5 , 0.58, 0.6 , 0.66, 0.66, 0.66, 0.7 , 0.7 , 0.72, 0.72, 0.72,\n",
      "       0.72, 0.72, 0.72, 0.72, 0.72, 0.72, 0.72, 0.72, 0.72, 0.72, 0.72,\n",
      "       0.72, 0.72, 0.72, 0.72, 0.72, 0.72, 0.72, 0.72]), 'split6_test_recall': array([0.84, 0.86, 0.92, 0.94, 0.94, 0.94, 0.94, 0.94, 0.94, 0.94, 0.94,\n",
      "       0.94, 0.94, 0.94, 0.94, 0.94, 0.94, 0.94, 0.94, 0.94, 0.94, 0.94,\n",
      "       0.94, 0.94, 0.94, 0.94, 0.94, 0.94, 0.94, 0.94]), 'split7_test_recall': array([0.51020408, 0.65306122, 0.73469388, 0.75510204, 0.75510204,\n",
      "       0.75510204, 0.75510204, 0.75510204, 0.75510204, 0.7755102 ,\n",
      "       0.7755102 , 0.79591837, 0.79591837, 0.79591837, 0.79591837,\n",
      "       0.79591837, 0.79591837, 0.79591837, 0.79591837, 0.79591837,\n",
      "       0.79591837, 0.79591837, 0.79591837, 0.79591837, 0.79591837,\n",
      "       0.79591837, 0.79591837, 0.79591837, 0.79591837, 0.79591837]), 'split8_test_recall': array([0.57142857, 0.69387755, 0.71428571, 0.7755102 , 0.7755102 ,\n",
      "       0.79591837, 0.79591837, 0.79591837, 0.81632653, 0.81632653,\n",
      "       0.81632653, 0.81632653, 0.81632653, 0.83673469, 0.85714286,\n",
      "       0.85714286, 0.85714286, 0.85714286, 0.85714286, 0.85714286,\n",
      "       0.85714286, 0.85714286, 0.85714286, 0.85714286, 0.85714286,\n",
      "       0.85714286, 0.85714286, 0.85714286, 0.85714286, 0.85714286]), 'split9_test_recall': array([0.53061224, 0.6122449 , 0.6122449 , 0.6122449 , 0.65306122,\n",
      "       0.65306122, 0.65306122, 0.65306122, 0.65306122, 0.65306122,\n",
      "       0.67346939, 0.67346939, 0.67346939, 0.67346939, 0.67346939,\n",
      "       0.67346939, 0.69387755, 0.69387755, 0.69387755, 0.69387755,\n",
      "       0.69387755, 0.69387755, 0.69387755, 0.69387755, 0.69387755,\n",
      "       0.69387755, 0.71428571, 0.71428571, 0.71428571, 0.71428571]), 'mean_test_recall': array([0.58093878, 0.66032653, 0.69893878, 0.72326531, 0.73959184,\n",
      "       0.74571429, 0.75583673, 0.75787755, 0.76395918, 0.766     ,\n",
      "       0.77620408, 0.78028571, 0.78028571, 0.78232653, 0.78640816,\n",
      "       0.78844898, 0.7904898 , 0.7904898 , 0.7904898 , 0.7904898 ,\n",
      "       0.7904898 , 0.79253061, 0.79253061, 0.79253061, 0.79457143,\n",
      "       0.79457143, 0.79661224, 0.79661224, 0.79661224, 0.79661224]), 'std_test_recall': array([0.19915106, 0.16292933, 0.16820479, 0.16062446, 0.1451741 ,\n",
      "       0.14469419, 0.13372575, 0.1319745 , 0.1303822 , 0.13038731,\n",
      "       0.12165567, 0.12460925, 0.12460925, 0.12534774, 0.12270559,\n",
      "       0.12131146, 0.11951841, 0.11951841, 0.11951841, 0.11951841,\n",
      "       0.11951841, 0.11836848, 0.11836848, 0.11836848, 0.11465655,\n",
      "       0.11465655, 0.11301599, 0.11301599, 0.11301599, 0.11301599]), 'rank_test_recall': array([30, 29, 28, 27, 26, 25, 24, 23, 22, 21, 20, 18, 18, 17, 16, 15, 10,\n",
      "       10, 10, 10, 10,  7,  7,  7,  5,  5,  1,  1,  1,  1], dtype=int32), 'split0_test_f1_score': array([0.69354839, 0.69354839, 0.71428571, 0.703125  , 0.69767442,\n",
      "       0.69767442, 0.69767442, 0.68181818, 0.68181818, 0.68181818,\n",
      "       0.68181818, 0.67669173, 0.66666667, 0.66666667, 0.66666667,\n",
      "       0.66666667, 0.66666667, 0.66176471, 0.66176471, 0.66176471,\n",
      "       0.66176471, 0.66176471, 0.66176471, 0.66176471, 0.65693431,\n",
      "       0.65693431, 0.65693431, 0.65693431, 0.65217391, 0.65217391]), 'split1_test_f1_score': array([0.49230769, 0.57142857, 0.5915493 , 0.5915493 , 0.62162162,\n",
      "       0.64      , 0.67532468, 0.67532468, 0.67532468, 0.67532468,\n",
      "       0.69230769, 0.6835443 , 0.6835443 , 0.6835443 , 0.69135802,\n",
      "       0.68292683, 0.68292683, 0.68292683, 0.68292683, 0.68292683,\n",
      "       0.68292683, 0.68292683, 0.68292683, 0.68292683, 0.69879518,\n",
      "       0.69879518, 0.69879518, 0.69879518, 0.69879518, 0.69879518]), 'split2_test_f1_score': array([0.92473118, 0.92631579, 0.9375    , 0.9375    , 0.9375    ,\n",
      "       0.94845361, 0.94845361, 0.94845361, 0.94845361, 0.93877551,\n",
      "       0.93877551, 0.94949495, 0.94949495, 0.94949495, 0.94949495,\n",
      "       0.94949495, 0.94949495, 0.94949495, 0.94949495, 0.94949495,\n",
      "       0.94949495, 0.94      , 0.94      , 0.94      , 0.94      ,\n",
      "       0.94      , 0.94      , 0.93069307, 0.92156863, 0.92156863]), 'split3_test_f1_score': array([0.55882353, 0.63888889, 0.65753425, 0.72727273, 0.75949367,\n",
      "       0.75949367, 0.775     , 0.7804878 , 0.79518072, 0.79518072,\n",
      "       0.8372093 , 0.8372093 , 0.8372093 , 0.8372093 , 0.8372093 ,\n",
      "       0.8372093 , 0.8372093 , 0.8372093 , 0.8372093 , 0.8372093 ,\n",
      "       0.8372093 , 0.8372093 , 0.8372093 , 0.8372093 , 0.8372093 ,\n",
      "       0.8372093 , 0.8372093 , 0.8372093 , 0.8372093 , 0.8372093 ]), 'split4_test_f1_score': array([0.53521127, 0.6835443 , 0.76190476, 0.76190476, 0.79069767,\n",
      "       0.79069767, 0.79069767, 0.79069767, 0.79069767, 0.79069767,\n",
      "       0.79069767, 0.79069767, 0.79069767, 0.79069767, 0.79069767,\n",
      "       0.8045977 , 0.79545455, 0.79545455, 0.79545455, 0.79545455,\n",
      "       0.78651685, 0.8       , 0.8       , 0.8       , 0.8       ,\n",
      "       0.79120879, 0.79120879, 0.79120879, 0.79120879, 0.79120879]), 'split5_test_f1_score': array([0.65789474, 0.65909091, 0.6185567 , 0.63461538, 0.62264151,\n",
      "       0.62264151, 0.64814815, 0.64814815, 0.65454545, 0.64285714,\n",
      "       0.61016949, 0.59016393, 0.58064516, 0.57142857, 0.56692913,\n",
      "       0.54961832, 0.54961832, 0.54545455, 0.53731343, 0.52941176,\n",
      "       0.52941176, 0.51798561, 0.51428571, 0.51428571, 0.51428571,\n",
      "       0.50704225, 0.50704225, 0.5034965 , 0.5034965 , 0.5034965 ]), 'split6_test_f1_score': array([0.88421053, 0.86868687, 0.89320388, 0.90384615, 0.90384615,\n",
      "       0.90384615, 0.90384615, 0.90384615, 0.8952381 , 0.8952381 ,\n",
      "       0.8952381 , 0.8952381 , 0.8952381 , 0.8952381 , 0.88679245,\n",
      "       0.88679245, 0.88679245, 0.87850467, 0.87037037, 0.86238532,\n",
      "       0.86238532, 0.86238532, 0.85454545, 0.85454545, 0.85454545,\n",
      "       0.85454545, 0.85454545, 0.83928571, 0.83185841, 0.83185841]), 'split7_test_f1_score': array([0.64935065, 0.71910112, 0.76595745, 0.77083333, 0.77083333,\n",
      "       0.77083333, 0.77083333, 0.77083333, 0.77083333, 0.78350515,\n",
      "       0.78350515, 0.78787879, 0.78787879, 0.78787879, 0.78787879,\n",
      "       0.77227723, 0.77227723, 0.76470588, 0.75728155, 0.75      ,\n",
      "       0.75      , 0.75      , 0.74285714, 0.73584906, 0.73584906,\n",
      "       0.73584906, 0.72222222, 0.71559633, 0.7027027 , 0.7027027 ]), 'split8_test_f1_score': array([0.72727273, 0.81927711, 0.8045977 , 0.84444444, 0.84444444,\n",
      "       0.85714286, 0.85714286, 0.85714286, 0.85106383, 0.85106383,\n",
      "       0.84210526, 0.84210526, 0.84210526, 0.85416667, 0.85714286,\n",
      "       0.85714286, 0.85714286, 0.85714286, 0.80769231, 0.8       ,\n",
      "       0.8       , 0.8       , 0.78504673, 0.78504673, 0.77777778,\n",
      "       0.77777778, 0.76363636, 0.74336283, 0.73684211, 0.73684211]), 'split9_test_f1_score': array([0.65822785, 0.68965517, 0.66666667, 0.66666667, 0.69565217,\n",
      "       0.69565217, 0.69565217, 0.68817204, 0.65979381, 0.65979381,\n",
      "       0.67346939, 0.66666667, 0.66666667, 0.66666667, 0.66      ,\n",
      "       0.64705882, 0.66019417, 0.66019417, 0.65384615, 0.65384615,\n",
      "       0.65384615, 0.64761905, 0.64761905, 0.64761905, 0.64761905,\n",
      "       0.64761905, 0.66037736, 0.65420561, 0.65420561, 0.65420561]), 'mean_test_f1_score': array([0.67815785, 0.72695371, 0.74117564, 0.75417578, 0.7644405 ,\n",
      "       0.76864354, 0.7762773 , 0.77449245, 0.77229494, 0.77142548,\n",
      "       0.77452958, 0.77196907, 0.77001469, 0.77029917, 0.76941698,\n",
      "       0.76537851, 0.76577773, 0.76328525, 0.75533542, 0.75224936,\n",
      "       0.75135559, 0.74998908, 0.74662549, 0.74592468, 0.74630158,\n",
      "       0.74469812, 0.74319712, 0.73707876, 0.73300611, 0.73300611]), 'std_test_f1_score': array([0.13295021, 0.10457491, 0.10835867, 0.10780747, 0.10306923,\n",
      "       0.10356087, 0.09590844, 0.09796671, 0.0986543 , 0.09849659,\n",
      "       0.101473  , 0.1084105 , 0.11092913, 0.11336315, 0.11354058,\n",
      "       0.11870157, 0.11718773, 0.11751696, 0.11568103, 0.11607699,\n",
      "       0.1157749 , 0.11744477, 0.11688798, 0.11692947, 0.11631704,\n",
      "       0.11739575, 0.11626349, 0.11432731, 0.11273636, 0.11273636]), 'rank_test_f1_score': array([30, 29, 25, 16, 13, 10,  1,  3,  4,  6,  2,  5,  8,  7,  9, 12, 11,\n",
      "       14, 15, 17, 18, 19, 20, 22, 21, 23, 24, 26, 27, 27], dtype=int32)}\n"
     ]
    }
   ],
   "source": [
    "from sklearn.model_selection import GridSearchCV\n",
    "from sklearn.linear_model import LogisticRegression\n",
    "from sklearn.metrics import precision_score, recall_score, make_scorer, f1_score\n",
    "# set class weight baise on fraud cases\n",
    "params = {'class_weight':[{0:1, 1:v} for v in np.linspace(1, 20, 30)]}\n",
    "mod = GridSearchCV(\n",
    "    estimator=LogisticRegression(max_iter=1000),\n",
    "    param_grid=params,\n",
    "    scoring={\n",
    "        'precision': make_scorer(precision_score),\n",
    "        'recall': make_scorer(recall_score),\n",
    "        'f1_score': make_scorer(f1_score)},\n",
    "    refit='f1_score', \n",
    "    cv=10,\n",
    "    n_jobs=-1)\n",
    "mod.fit(X,y)\n",
    "print(mod.cv_results_)"
   ]
  },
  {
   "cell_type": "code",
   "execution_count": 54,
   "metadata": {},
   "outputs": [
    {
     "name": "stdout",
     "output_type": "stream",
     "text": [
      " best estimator: LogisticRegression(class_weight={0: 1, 1: 4.931034482758621}, max_iter=1000), best score 0.7762773042978889 best param {'class_weight': {0: 1, 1: 4.931034482758621}}\n"
     ]
    }
   ],
   "source": [
    "print(f' best estimator: {mod.best_estimator_}, best score {mod.best_score_} best param {mod.best_params_}')"
   ]
  },
  {
   "cell_type": "code",
   "execution_count": 55,
   "metadata": {},
   "outputs": [
    {
     "name": "stdout",
     "output_type": "stream",
     "text": [
      "f1_score 0.801635991820041\n"
     ]
    }
   ],
   "source": [
    "pred = mod.predict(X)\n",
    "print(f'f1_score {f1_score(y, pred)}')"
   ]
  },
  {
   "cell_type": "code",
   "execution_count": 56,
   "metadata": {},
   "outputs": [
    {
     "data": {
      "text/plain": [
       "<matplotlib.legend.Legend at 0x7fa0305fb450>"
      ]
     },
     "execution_count": 56,
     "metadata": {},
     "output_type": "execute_result"
    },
    {
     "data": {
      "image/png": "[encoded data removed]",
      "text/plain": [
       "<Figure size 1000x500 with 1 Axes>"
      ]
     },
     "metadata": {},
     "output_type": "display_data"
    }
   ],
   "source": [
    "plt.figure(figsize=(10,5))\n",
    "df = pd.DataFrame(mod.cv_results_)\n",
    "\n",
    "for score in ['mean_test_recall', 'mean_test_precision', 'mean_test_f1_score']:\n",
    "    plt.plot(\n",
    "        [_[1] for _ in df['param_class_weight']],\n",
    "        df[score],\n",
    "        label=score)\n",
    "plt.legend()"
   ]
  },
  {
   "attachments": {},
   "cell_type": "markdown",
   "metadata": {},
   "source": [
    "### Outlier Detection Model\n",
    "### IsolationForest\n",
    "Fraud being an outlier we are going to use a model that detects outlier: its a rare event but out of extraodinary"
   ]
  },
  {
   "cell_type": "code",
   "execution_count": 57,
   "metadata": {},
   "outputs": [],
   "source": [
    "from sklearn.ensemble import IsolationForest\n",
    "\n",
    "def f1_score_(estimator, X, y_true, sample_weight=None):\n",
    "    y_pred = estimator.predict(X)\n",
    "    precision = precision_score(y_true, np.where(y_pred==-1, 1, 0))\n",
    "    recall =  recall_score(y_true, np.where(y_pred==-1, 1, 0))\n",
    "    return 2 * (precision * recall) / (precision + recall)\n",
    "\n",
    "mod = GridSearchCV(\n",
    "    estimator=IsolationForest(),\n",
    "    param_grid={'contamination':np.linspace(0.01, 0.02, 10)},\n",
    "    scoring={'f1_score': f1_score_},\n",
    "    refit='f1_score', \n",
    "    cv=10,\n",
    "    n_jobs=-1)\n",
    "mod.fit(X,y)\n",
    "print(mod.cv_results_)"
   ]
  },
  {
   "cell_type": "code",
   "execution_count": null,
   "metadata": {},
   "outputs": [
    {
     "name": "stdout",
     "output_type": "stream",
     "text": [
      " best estimator: LogisticRegression(class_weight={0: 1, 1: 4.931034482758621}, max_iter=1000), best score 0.7762773042978889 best param {'class_weight': {0: 1, 1: 4.931034482758621}}\n"
     ]
    }
   ],
   "source": [
    "print(f' best estimator: {mod.best_estimator_}, best score {mod.best_score_} best param {mod.best_params_}')"
   ]
  },
  {
   "cell_type": "code",
   "execution_count": null,
   "metadata": {},
   "outputs": [
    {
     "name": "stdout",
     "output_type": "stream",
     "text": [
      "f1_score 0.801635991820041\n"
     ]
    }
   ],
   "source": [
    "pred = mod.predict(X)\n",
    "print(f'f1_score {f1_score(y, pred)}')"
   ]
  },
  {
   "cell_type": "code",
   "execution_count": null,
   "metadata": {},
   "outputs": [
    {
     "data": {
      "text/plain": [
       "<matplotlib.legend.Legend at 0x7fa031039350>"
      ]
     },
     "execution_count": 47,
     "metadata": {},
     "output_type": "execute_result"
    },
    {
     "data": {
      "image/png": "[encoded data removed]",
      "text/plain": [
       "<Figure size 1000x500 with 1 Axes>"
      ]
     },
     "metadata": {},
     "output_type": "display_data"
    }
   ],
   "source": [
    "plt.figure(figsize=(10,5))\n",
    "df = pd.DataFrame(mod.cv_results_)\n",
    "\n",
    "for score in ['mean_test_recall', 'mean_test_precision', 'mean_test_f1_score']:\n",
    "    plt.plot(\n",
    "        [_[1] for _ in df['param_class_weight']],\n",
    "        df[score],\n",
    "        label=score)\n",
    "plt.legend()"
   ]
  }
 ],
 "metadata": {
  "kernelspec": {
   "display_name": "uep_env",
   "language": "python",
   "name": "python3"
  },
  "language_info": {
   "codemirror_mode": {
    "name": "ipython",
    "version": 3
   },
   "file_extension": ".py",
   "mimetype": "text/x-python",
   "name": "python",
   "nbconvert_exporter": "python",
   "pygments_lexer": "ipython3",
   "version": "3.7.13"
  },
  "orig_nbformat": 4,
  "vscode": {
   "interpreter": {
    "hash": "ad99316b81bdfdbe39ce25353070a9a647a8df0db4739a6995b990626fa0683f"
   }
  }
 },
 "nbformat": 4,
 "nbformat_minor": 2
}
