{
 "cells": [
  {
   "cell_type": "code",
   "execution_count": 1,
   "metadata": {},
   "outputs": [],
   "source": [
    "import numpy as np\n",
    "import pandas as pd\n",
    "import seaborn as sn\n",
    "import matplotlib.pyplot as plt\n",
    "from sklearn.preprocessing import StandardScaler\n",
    "from sklearn.linear_model import LogisticRegression\n",
    "from sklearn.model_selection import RandomizedSearchCV, train_test_split\n",
    "from sklearn.ensemble import HistGradientBoostingClassifier, RandomForestClassifier\n",
    "from sklearn.metrics import f1_score, confusion_matrix "
   ]
  },
  {
   "cell_type": "code",
   "execution_count": null,
   "metadata": {},
   "outputs": [],
   "source": [
    "df = pd.read_csv('./data/creditcard.csv')\n",
    "display(df.head(), df.info())"
   ]
  },
  {
   "attachments": {},
   "cell_type": "markdown",
   "metadata": {},
   "source": [
    "### Data Preprocessing"
   ]
  },
  {
   "cell_type": "code",
   "execution_count": null,
   "metadata": {},
   "outputs": [],
   "source": [
    "X = df.drop(columns=['Time', 'Class'])\n",
    "y = df['Class']  \n",
    "print(f'X shape {X.shape}, y shape {y.shape} fraud cases {y.sum()}')\n",
    "display('y_value counts',y.value_counts(), df.Class)"
   ]
  },
  {
   "cell_type": "code",
   "execution_count": null,
   "metadata": {},
   "outputs": [],
   "source": [
    "sn.countplot(y='Class', data=df, palette=['green', 'blue'])"
   ]
  },
  {
   "attachments": {},
   "cell_type": "markdown",
   "metadata": {},
   "source": [
    "The count plot above shows that we have an imbalance dataset where fraud cases are rare than the non fraud cases, this my lead our model to classify almost every case as the majority class which is the non fraud case"
   ]
  },
  {
   "cell_type": "code",
   "execution_count": null,
   "metadata": {},
   "outputs": [],
   "source": [
    "X_train, X_test, y_train, y_test  = train_test_split(X, y, test_size=0.3, stratify=y, random_state=42)\n",
    "sc = StandardScaler()\n",
    "X_train = sc.fit(X_train).transform(X_train)\n",
    "print(X_train.shape , y_train.shape)"
   ]
  },
  {
   "attachments": {},
   "cell_type": "markdown",
   "metadata": {},
   "source": [
    "### Model Evaluation / Selection\n"
   ]
  },
  {
   "attachments": {},
   "cell_type": "markdown",
   "metadata": {},
   "source": [
    "Due to imbalance in our dataset we will use f1_score and confusion matrix for our model evaluation"
   ]
  },
  {
   "cell_type": "code",
   "execution_count": null,
   "metadata": {},
   "outputs": [],
   "source": [
    "def heatmap(y_test, preds):\n",
    "    plt.figure(figsize=(9,9))\n",
    "    cm = confusion_matrix(y_test, preds)\n",
    "    sn.heatmap(cm, annot=True, linewidths=.5, cmap='Blues_r', square=True, fmt='.3f')\n",
    "    plt.ylabel('Actual')\n",
    "    plt.xlabel('predicted')\n",
    "    plt.title(f'f1_score {f1_score(y_test, preds)}', size=15)\n",
    "    print(f'total number of fraud cases {preds.sum()}')\n"
   ]
  },
  {
   "cell_type": "code",
   "execution_count": null,
   "metadata": {},
   "outputs": [],
   "source": [
    "gbc=HistGradientBoostingClassifier(learning_rate=0.01, \n",
    "        max_iter=2000, max_leaf_nodes=6, validation_fraction=0.2, \n",
    "        n_iter_no_change=15, random_state=42).fit(X_train,y_train)\n",
    "preds = gbc.predict(X_test.values)\n",
    "heatmap(y_test, preds)\n"
   ]
  },
  {
   "cell_type": "code",
   "execution_count": null,
   "metadata": {},
   "outputs": [],
   "source": [
    "rdc = RandomForestClassifier(n_estimators=500,)\n",
    "rdc.fit(X_train, y_train)\n",
    "preds = rdc.predict(X_test.values)\n",
    "heatmap(y_test, preds)"
   ]
  }
 ],
 "metadata": {
  "kernelspec": {
   "display_name": "uep_env",
   "language": "python",
   "name": "python3"
  },
  "language_info": {
   "codemirror_mode": {
    "name": "ipython",
    "version": 3
   },
   "file_extension": ".py",
   "mimetype": "text/x-python",
   "name": "python",
   "nbconvert_exporter": "python",
   "pygments_lexer": "ipython3",
   "version": "3.7.13"
  },
  "orig_nbformat": 4,
  "vscode": {
   "interpreter": {
    "hash": "ad99316b81bdfdbe39ce25353070a9a647a8df0db4739a6995b990626fa0683f"
   }
  }
 },
 "nbformat": 4,
 "nbformat_minor": 2
}
